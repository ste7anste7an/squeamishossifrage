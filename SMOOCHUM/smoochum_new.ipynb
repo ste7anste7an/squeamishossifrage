{
 "cells": [
  {
   "cell_type": "code",
   "execution_count": null,
   "metadata": {},
   "outputs": [],
   "source": [
    "! find *.crt -exec openssl x509 -in {} -noout -modulus \\;\n"
   ]
  },
  {
   "cell_type": "code",
   "execution_count": 20,
   "metadata": {},
   "outputs": [
    {
     "data": {
      "text/plain": [
       "[164852118665690654161230442827854123184549236861861045231474145196195944588435403894841845164655044661722599497856556594068792871044638704364894993254237015332001146673204094672895215067068622550640008063190574428805674159507813856540149645315133245713651698783212625055497484400196607226031123380309720829063,\n",
       " 144262338704587292474072049555050343833027186115737656483851098346033228070053567801678598990304457849044431777722818923192538504042384311780154642229489641156485583320961429854797661074973955035362679270231029101533646368864832117829040954073859952318815298815486139382126165411436494940402574856553977740763,\n",
       " 161571909719993232762092632460348601844893656141964949804018495117499156529314569921436563917619478628021905874552356836590007616097838856547331274264014595470860910077397404778579145748824673760039039413458292056031757070940394928241450245913231202535669261475335777089850034003365814332182703016867686233499,\n",
       " 69421986213877830943658700494828239512711644608478381837346702710045039465710380711086660816195385074885089278250377785777134059690361241749993244320897370789755175129654805092421844094091187914949820875902522041935559830133912709594968814513669185207798333402375359037877693349245177155226500799290234971163,\n",
       " 144086407900335114566367074348900982715048963952953047766893556567043766899246537116645444576426670949605568036211903382482125287853121404302229959346236671123170592074538883428797974628200780807746594883356487004178288743749260440300018007408739597760311745094599932278335884220776886563064762571537649242523,\n",
       " 155028474963638304952958646329624111631091224056896241689103564544827589338358672239987976195638851672383215868017491545718576859374601519924128044994389678777023794520064449174488768391396415295388410871167860640442294881062429285057655888238945232537554506904025009310987098884831725730914016820934125921083,\n",
       " 49278602114022168792832207515623151261026798778812592121907161421549195621478495924216144712235440715253703431738440340762362239219743038252135916658981450887258496261120039310726106437952096238729603552143713794682533857770974812317208254904415352960634533980157787379835261947103222635248920063915980465499,\n",
       " 143628775434710905925688457564052263032567437216961617972016802441379791539337480011990546193550052763465630434173914932175224312845787565604049349490968505392614252863724266717191898593367199930691125177767334434371607338838511477650270562427817748916950953243844140091759297028711045819814878376989791735863,\n",
       " 109430327971727446096406155294967842557843012867250635971600038667319542437725023547519935882196737890272785542466017224537113435372039025106505687296548554635713403417987238659818699330382012760277538904032967632268347259916296942727402355925455173038027799179653987032510369994280952358494651717880014800123,\n",
       " 168110581284099086028743306955207756750913434777645603274841967333294204374379207123500071518790234982135224406332380341358144753698561827652312108419873185155528637483665913284677584249352210444694296767337509370382377150506732865419121507897840850759730056238401851162051535828663082599548540767808777969403,\n",
       " 103365968536765641870705820955869951781206718286232641057863650909989456750745853870113729378764407857736901581691784351544940490333884483482229802235021741752792998651301331448870300729653094571837526541069983127007978428498552473350074559639329577662621586167831602479326410572573903372462350572312987800283,\n",
       " 123232984959646950321632466763079368153265044599450212117355244700529047214300013893231268446266446904197029719757360888812629772276661836205919939951632791006645151643021759979246215983580499758633012437496163525076957509015413552414379993634638080904354312481368693253848705261241635363516657098710849192503,\n",
       " 50419549229593566635158667465393296937363389032736655238785308245492839323471282731352165913447416620942806415321752050753669998658036724271159469366185432056469012186897318192076501408473581989881578214053408584039233408492831561406883827605252843240100398206397596651520983246753127158891320404009369557723,\n",
       " 125361118507734143749140569298726725290653458531220426928804777018039260921188083607827434196343103406548079962479732742919117148549796281588922041167448772847909357612063905269495315491662742668172739512979989766798071163989892534350757922510594110824125287906566067139482301738528420716506239412443338494343]"
      ]
     },
     "execution_count": 20,
     "metadata": {},
     "output_type": "execute_result"
    }
   ],
   "source": [
    "from Crypto.PublicKey import RSA\n",
    "import glob\n",
    "\n",
    "mods=[]\n",
    "for g in glob.glob(\"certificates/*.crt\"):\n",
    "    r=open(g,'r').read()\n",
    "    pubkey=RSA.import_key(r)\n",
    "    mods.append(pubkey.n)\n",
    "    e=pubkey.e\n",
    "mods"
   ]
  },
  {
   "cell_type": "code",
   "execution_count": 1,
   "metadata": {},
   "outputs": [],
   "source": [
    "mods=[125361118507734143749140569298726725290653458531220426928804777018039260921188083607827434196343103406548079962479732742919117148549796281588922041167448772847909357612063905269495315491662742668172739512979989766798071163989892534350757922510594110824125287906566067139482301738528420716506239412443338494343, 49278602114022168792832207515623151261026798778812592121907161421549195621478495924216144712235440715253703431738440340762362239219743038252135916658981450887258496261120039310726106437952096238729603552143713794682533857770974812317208254904415352960634533980157787379835261947103222635248920063915980465499, 103365968536765641870705820955869951781206718286232641057863650909989456750745853870113729378764407857736901581691784351544940490333884483482229802235021741752792998651301331448870300729653094571837526541069983127007978428498552473350074559639329577662621586167831602479326410572573903372462350572312987800283, 161571909719993232762092632460348601844893656141964949804018495117499156529314569921436563917619478628021905874552356836590007616097838856547331274264014595470860910077397404778579145748824673760039039413458292056031757070940394928241450245913231202535669261475335777089850034003365814332182703016867686233499, 69421986213877830943658700494828239512711644608478381837346702710045039465710380711086660816195385074885089278250377785777134059690361241749993244320897370789755175129654805092421844094091187914949820875902522041935559830133912709594968814513669185207798333402375359037877693349245177155226500799290234971163, 155028474963638304952958646329624111631091224056896241689103564544827589338358672239987976195638851672383215868017491545718576859374601519924128044994389678777023794520064449174488768391396415295388410871167860640442294881062429285057655888238945232537554506904025009310987098884831725730914016820934125921083, 50419549229593566635158667465393296937363389032736655238785308245492839323471282731352165913447416620942806415321752050753669998658036724271159469366185432056469012186897318192076501408473581989881578214053408584039233408492831561406883827605252843240100398206397596651520983246753127158891320404009369557723, 144086407900335114566367074348900982715048963952953047766893556567043766899246537116645444576426670949605568036211903382482125287853121404302229959346236671123170592074538883428797974628200780807746594883356487004178288743749260440300018007408739597760311745094599932278335884220776886563064762571537649242523, 109430327971727446096406155294967842557843012867250635971600038667319542437725023547519935882196737890272785542466017224537113435372039025106505687296548554635713403417987238659818699330382012760277538904032967632268347259916296942727402355925455173038027799179653987032510369994280952358494651717880014800123, 123232984959646950321632466763079368153265044599450212117355244700529047214300013893231268446266446904197029719757360888812629772276661836205919939951632791006645151643021759979246215983580499758633012437496163525076957509015413552414379993634638080904354312481368693253848705261241635363516657098710849192503, 168110581284099086028743306955207756750913434777645603274841967333294204374379207123500071518790234982135224406332380341358144753698561827652312108419873185155528637483665913284677584249352210444694296767337509370382377150506732865419121507897840850759730056238401851162051535828663082599548540767808777969403, 144262338704587292474072049555050343833027186115737656483851098346033228070053567801678598990304457849044431777722818923192538504042384311780154642229489641156485583320961429854797661074973955035362679270231029101533646368864832117829040954073859952318815298815486139382126165411436494940402574856553977740763, 164852118665690654161230442827854123184549236861861045231474145196195944588435403894841845164655044661722599497856556594068792871044638704364894993254237015332001146673204094672895215067068622550640008063190574428805674159507813856540149645315133245713651698783212625055497484400196607226031123380309720829063, 143628775434710905925688457564052263032567437216961617972016802441379791539337480011990546193550052763465630434173914932175224312845787565604049349490968505392614252863724266717191898593367199930691125177767334434371607338838511477650270562427817748916950953243844140091759297028711045819814878376989791735863]\n"
   ]
  },
  {
   "cell_type": "code",
   "execution_count": null,
   "metadata": {},
   "outputs": [],
   "source": []
  },
  {
   "cell_type": "code",
   "execution_count": 2,
   "metadata": {},
   "outputs": [
    {
     "name": "stdout",
     "output_type": "stream",
     "text": [
      "6\n"
     ]
    }
   ],
   "source": [
    "def modular_sqrt(a, p):\n",
    "\n",
    "    def legendre_symbol(a, p):\n",
    "        \"\"\" Compute the Legendre symbol a|p using\n",
    "            Euler's criterion. p is a prime, a is\n",
    "            relatively prime to p (if p divides\n",
    "            a, then a|p = 0)\n",
    "            Returns 1 if a has a square root modulo\n",
    "            p, -1 otherwise.\n",
    "        \"\"\"\n",
    "        ls = pow(a, (p - 1) // 2, p)\n",
    "        return -1 if ls == p - 1 else ls\n",
    "\n",
    "    \"\"\" Find a quadratic residue (mod p) of 'a'. p\n",
    "        must be an odd prime.\n",
    "        Solve the congruence of the form:\n",
    "            x^2 = a (mod p)\n",
    "        And returns x. Note that p - x is also a root.\n",
    "        0 is returned is no square root exists for\n",
    "        these a and p.\n",
    "        The Tonelli-Shanks algorithm is used (except\n",
    "        for some simple cases in which the solution\n",
    "        is known from an identity). This algorithm\n",
    "        runs in polynomial time (unless the\n",
    "        generalized Riemann hypothesis is false).\n",
    "    \"\"\"\n",
    "    # Simple cases\n",
    "    #\n",
    "    if legendre_symbol(a, p) != 1:\n",
    "        return 0\n",
    "    elif a == 0:\n",
    "        return 0\n",
    "    elif p == 2:\n",
    "        return p\n",
    "    elif p % 4 == 3:\n",
    "        return pow(a, (p + 1) // 4, p)\n",
    "\n",
    "    # Partition p-1 to s * 2^e for an odd s (i.e.\n",
    "    # reduce all the powers of 2 from p-1)\n",
    "    #\n",
    "    s = p - 1\n",
    "    e = 0\n",
    "    while s % 2 == 0:\n",
    "        s //= 2\n",
    "        e += 1\n",
    "\n",
    "    # Find some 'n' with a legendre symbol n|p = -1.\n",
    "    # Shouldn't take long.\n",
    "    #\n",
    "    n = 2\n",
    "    while legendre_symbol(n, p) != -1:\n",
    "        n += 1\n",
    "\n",
    "    # Here be dragons!\n",
    "    # Read the paper \"Square roots from 1; 24, 51,\n",
    "    # 10 to Dan Shanks\" by Ezra Brown for more\n",
    "    # information\n",
    "    #\n",
    "\n",
    "    # x is a guess of the square root that gets better\n",
    "    # with each iteration.\n",
    "    # b is the \"fudge factor\" - by how much we're off\n",
    "    # with the guess. The invariant x^2 = ab (mod p)\n",
    "    # is maintained throughout the loop.\n",
    "    # g is used for successive powers of n to update\n",
    "    # both a and b\n",
    "    # r is the exponent - decreases with each update\n",
    "    #\n",
    "    x = pow(a, (s + 1) // 2, p)\n",
    "    b = pow(a, s, p)\n",
    "    g = pow(n, s, p)\n",
    "    r = e\n",
    "\n",
    "    while True:\n",
    "        t = b\n",
    "        m = 0\n",
    "        for m in range(r):\n",
    "            if t == 1:\n",
    "                break\n",
    "            t = pow(t, 2, p)\n",
    "\n",
    "        if m == 0:\n",
    "            return x\n",
    "\n",
    "        gs = pow(g, 2 ** (r - m - 1), p)\n",
    "        g = (gs * gs) % p\n",
    "        x = (x * gs) % p\n",
    "        b = (b * g) % p\n",
    "        r = m\n",
    "\n",
    "print(modular_sqrt(223, 17)) # should return 6"
   ]
  },
  {
   "cell_type": "code",
   "execution_count": 3,
   "metadata": {},
   "outputs": [
    {
     "data": {
      "text/plain": [
       "True"
      ]
     },
     "execution_count": 3,
     "metadata": {},
     "output_type": "execute_result"
    }
   ],
   "source": [
    "from Crypto.Util import number\n",
    "number.isPrime(13)"
   ]
  },
  {
   "cell_type": "markdown",
   "metadata": {},
   "source": [
    "### all primes < 2**20"
   ]
  },
  {
   "cell_type": "code",
   "execution_count": 21,
   "metadata": {},
   "outputs": [
    {
     "data": {
      "text/plain": [
       "82025"
      ]
     },
     "execution_count": 21,
     "metadata": {},
     "output_type": "execute_result"
    }
   ],
   "source": [
    "primes=[]\n",
    "for i in range(2**20):\n",
    "    if number.isPrime(i):\n",
    "        primes.append(i)\n",
    "len(primes)\n",
    "\n"
   ]
  },
  {
   "cell_type": "markdown",
   "metadata": {},
   "source": [
    "### check candidate modular roots"
   ]
  },
  {
   "cell_type": "code",
   "execution_count": 22,
   "metadata": {},
   "outputs": [
    {
     "name": "stdout",
     "output_type": "stream",
     "text": [
      "17623\n",
      "25643\n",
      "63761\n",
      "94687\n",
      "104527\n",
      "121591\n",
      "147347\n",
      "187687\n",
      "213307\n",
      "217691\n",
      "228509\n",
      "409777\n",
      "412001\n",
      "420241\n",
      "449363\n",
      "484787\n",
      "569197\n",
      "619807\n",
      "622663\n",
      "631619\n",
      "645787\n",
      "658433\n",
      "666461\n",
      "684569\n",
      "717841\n",
      "762721\n",
      "775259\n",
      "775933\n",
      "776029\n",
      "819431\n",
      "836939\n",
      "1032307\n",
      "1043849\n"
     ]
    }
   ],
   "source": [
    "\n",
    "cand=[]\n",
    "for p in primes:\n",
    "    bad=False\n",
    "    for n in mods:\n",
    "         s=modular_sqrt(n, p)\n",
    "         if s==0:\n",
    "            bad=True\n",
    "            break\n",
    "    if not bad:\n",
    "        print(p)\n",
    "        cand.append(p)"
   ]
  },
  {
   "cell_type": "code",
   "execution_count": 23,
   "metadata": {},
   "outputs": [],
   "source": [
    "def is_square(apositiveint):\n",
    "  x = apositiveint // 2\n",
    "  seen = set([x])\n",
    "  while x * x != apositiveint:\n",
    "    x = (x + (apositiveint // x)) // 2\n",
    "    if x in seen: return False\n",
    "    seen.add(x)\n",
    "  return True"
   ]
  },
  {
   "cell_type": "code",
   "execution_count": 24,
   "metadata": {},
   "outputs": [],
   "source": [
    "ncand=mods[0]"
   ]
  },
  {
   "cell_type": "code",
   "execution_count": null,
   "metadata": {},
   "outputs": [
    {
     "name": "stdout",
     "output_type": "stream",
     "text": [
      "100000\n"
     ]
    }
   ],
   "source": [
    "c=[]\n",
    "import itertools\n",
    "i=100000\n",
    "j=0\n",
    "for factors in itertools.combinations(cand,24):\n",
    "    i-=1\n",
    "    if i==0:\n",
    "        i=100000\n",
    "        j+=1\n",
    "        print(j*100000)\n",
    "    backd=2\n",
    "    for f in factors:\n",
    "        backd*=f\n",
    "    if is_square(backd**2+4*ncand):\n",
    "        print(backd)\n",
    "        c.append(backd)   \n"
   ]
  },
  {
   "cell_type": "code",
   "execution_count": 5,
   "metadata": {},
   "outputs": [],
   "source": [
    "def exact_int_root(radicand, k):\n",
    "    ''' Computes the int root such that root ** k == radicand and root == None if this doesn't exist\n",
    "    \n",
    "    >>> exact_int_root(9, 3)\n",
    "    >>> exact_int_root(64, 3)\n",
    "    4\n",
    "    >>> exact_int_root(16269, 27743)\n",
    "    >>> exact_int_root(163956, 30674)\n",
    "    >>> exact_int_root(8, 3)\n",
    "    2\n",
    "    '''\n",
    "        \n",
    "    if radicand < 0 or k < 0:\n",
    "        raise ValueError('exact_int_root is undefined for negative numbers')\n",
    "    \n",
    "    if k == 0:\n",
    "        raise ValueError('exact_int_root is undefined for k == 0 (1/k == 1/0)')\n",
    "\n",
    "    \n",
    "    # The following are needed to make sure that root < radicand\n",
    "    # otherwise upper_bound = radicand causes an error\n",
    "\n",
    "    if radicand in (0, 1):\n",
    "        return radicand\n",
    "    elif k == 1:\n",
    "        return radicand\n",
    "    \n",
    "    # test if k is too big to enable any solution\n",
    "    # Not required, but it can speed up silly cases\n",
    "    if k >= radicand or 2 ** k > radicand:\n",
    "        return None\n",
    "    \n",
    "    # Can improve by finding a better approximation but you have to be cautious\n",
    "    # That you always make sure the approximation fulfills\n",
    "    # lower_bound <= root < upper_bound\n",
    "    lower_bound = 0\n",
    "    upper_bound = radicand\n",
    "\n",
    "    # Binary search for root\n",
    "    root_guess = (lower_bound + upper_bound) // 2\n",
    "    while upper_bound - lower_bound > 0:\n",
    "        radicand_guess = root_guess ** k\n",
    "        \n",
    "        if radicand_guess < radicand:\n",
    "            # add 1 because lower_bound should be the smallest *possible* guess for root\n",
    "            # and we just ruled out root_guess.\n",
    "            lower_bound = root_guess + 1\n",
    "        elif radicand_guess == radicand:\n",
    "            return root_guess\n",
    "        else:\n",
    "            upper_bound = root_guess\n",
    "        \n",
    "        root_guess = (lower_bound + upper_bound) // 2\n",
    "    # No more valid guesses exist\n",
    "    return None"
   ]
  },
  {
   "cell_type": "code",
   "execution_count": 6,
   "metadata": {},
   "outputs": [],
   "source": [
    "def is_sqrt(m,n):\n",
    "    return m**2 <= n < (m+1)**2\n",
    "\n",
    "\n",
    "def isqrt(n):\n",
    "    low = 0\n",
    "    high = n\n",
    "    m = (low + high)//2\n",
    "\n",
    "    while not is_sqrt(m,n):\n",
    "        if m**2 < n: #too small! must be in [m+1,high]\n",
    "            low = m+1\n",
    "        else: #too big! must be in [low, m-1]\n",
    "            high = m - 1\n",
    "        m = (low + high) // 2\n",
    "    return m\n",
    "\n",
    "def is_square2(n):\n",
    "    return n == (isqrt(n))**2\n"
   ]
  },
  {
   "cell_type": "code",
   "execution_count": 7,
   "metadata": {},
   "outputs": [
    {
     "data": {
      "text/plain": [
       "68799317179919617235838774436543976943078487427544481957760448804940608960749496058888418579236682302342248741777532493161203947655943552775425958512677987273873641652644567155"
      ]
     },
     "execution_count": 7,
     "metadata": {},
     "output_type": "execute_result"
    }
   ],
   "source": [
    "ncand//1822127364722206264538550901959902639418477491551528669852926892847193423762404887880541297237663852783234201411629106958862481860102"
   ]
  },
  {
   "cell_type": "code",
   "execution_count": 8,
   "metadata": {},
   "outputs": [
    {
     "data": {
      "text/plain": [
       "False"
      ]
     },
     "execution_count": 8,
     "metadata": {},
     "output_type": "execute_result"
    }
   ],
   "source": [
    "number.isPrime(1822127364722206264538550901959902639418477491551528669852926892847193423762404887880541297237663852783234201411629106958862481860102)"
   ]
  },
  {
   "cell_type": "code",
   "execution_count": 9,
   "metadata": {},
   "outputs": [
    {
     "data": {
      "text/plain": [
       "True"
      ]
     },
     "execution_count": 9,
     "metadata": {},
     "output_type": "execute_result"
    }
   ],
   "source": [
    "d=1822127364722206264538550901959902639418477491551528669852926892847193423762404887880541297237663852783234201411629106958862481860102\n",
    "q=(-d+exact_int_root(d**2+4*ncand,2))//2\n",
    "p=ncand//q\n",
    "p*q==ncand"
   ]
  },
  {
   "cell_type": "code",
   "execution_count": 10,
   "metadata": {
    "scrolled": true
   },
   "outputs": [
    {
     "data": {
      "text/plain": [
       "22392955902045102160728585062481415724844839370542468205501910736257554534467834299831637434819264049345177645383495894180214947213866010046564748954926424"
      ]
     },
     "execution_count": 10,
     "metadata": {},
     "output_type": "execute_result"
    }
   ],
   "source": [
    "exact_int_root(d**2+4*ncand,2)"
   ]
  },
  {
   "cell_type": "code",
   "execution_count": 11,
   "metadata": {},
   "outputs": [
    {
     "data": {
      "text/plain": [
       "'0xa44b28517ce41e7db012163b2d50ab6ed84e506a2c65026f149c3175c152b4fdac1b7fbf7ec7d486fc2125261634076369588cb863a606'"
      ]
     },
     "execution_count": 11,
     "metadata": {},
     "output_type": "execute_result"
    }
   ],
   "source": [
    "hex(d)"
   ]
  },
  {
   "cell_type": "code",
   "execution_count": 12,
   "metadata": {},
   "outputs": [
    {
     "data": {
      "text/plain": [
       "11196477951022551080365203594923068965554688960722214054070664606874553031568843613362242314121513227116529093340366779016499090707638819576761805718393263"
      ]
     },
     "execution_count": 12,
     "metadata": {},
     "output_type": "execute_result"
    }
   ],
   "source": [
    "p"
   ]
  },
  {
   "cell_type": "code",
   "execution_count": 13,
   "metadata": {
    "scrolled": true
   },
   "outputs": [
    {
     "data": {
      "text/plain": [
       "125361118507734143749140569298726725290653458531220426928804777018039260921188083607827434196343103406548079962479732742919117148549796281588922041167448772847909357612063905269495315491662742668172739512979989766798071163989892534350757922510594110824125287906566067139482301738528420716506239412443338494343"
      ]
     },
     "execution_count": 13,
     "metadata": {},
     "output_type": "execute_result"
    }
   ],
   "source": [
    "ncand"
   ]
  },
  {
   "cell_type": "code",
   "execution_count": 14,
   "metadata": {},
   "outputs": [
    {
     "name": "stdout",
     "output_type": "stream",
     "text": [
      "True\n",
      "True\n",
      "True\n",
      "True\n",
      "True\n",
      "True\n",
      "True\n",
      "True\n",
      "True\n",
      "True\n",
      "True\n",
      "True\n",
      "True\n",
      "True\n"
     ]
    }
   ],
   "source": [
    "from Crypto.PublicKey import RSA\n",
    "e=65537\n",
    "for i,n in enumerate(mods):\n",
    "    d=1822127364722206264538550901959902639418477491551528669852926892847193423762404887880541297237663852783234201411629106958862481860102\n",
    "    q=(-d+exact_int_root(d**2+4*n,2))//2\n",
    "    p=n//q\n",
    "    print(p*q==n)\n",
    "    d=pow(e,-1,(p-1)*(q-1))\n",
    "    key_params = (n, e, d, p, q)\n",
    "    key = RSA.construct(key_params)\n",
    "    open('key%d.pem'%i,'wb').write(key.exportKey())"
   ]
  },
  {
   "cell_type": "code",
   "execution_count": 15,
   "metadata": {},
   "outputs": [
    {
     "name": "stdout",
     "output_type": "stream",
     "text": [
      "Error decrypting PKCS#7 structure\n",
      "4034DAA3FF7E0000:error:1C800064:Provider routines:ossl_cipher_unpadblock:bad decrypt:providers/implementations/ciphers/ciphercommon_block.c:124:\n",
      "���k99{ %���N���:�\u0017�ӟ��\u0006�����\u001c",
      ":�����\u0001��j��\u0010�j\u0000��#d]fT\u0010�\n",
      "Error decrypting PKCS#7 structure\n",
      "40941D64377F0000:error:1C800064:Provider routines:ossl_cipher_unpadblock:bad decrypt:providers/implementations/ciphers/ciphercommon_block.c:124:\n",
      "\"k!Y\t9�so{d41d8cd98f00b204e9800998ecf8427e}\n",
      "Error decrypting PKCS#7 structure\n",
      "40A4816FDE7F0000:error:1C800064:Provider routines:ossl_cipher_unpadblock:bad decrypt:providers/implementations/ciphers/ciphercommon_block.c:124:\n",
      "D\u0013T�\u0005�hY����\u0015��f�-$Sw�wP��b���Error decrypting PKCS#7 structure\n",
      "40A491DA7C7F0000:error:1C800064:Provider routines:ossl_cipher_unpadblock:bad decrypt:providers/implementations/ciphers/ciphercommon_block.c:124:\n",
      ".�Tvh�����\u000e\\����=��b\u0017�M�j6N�T���W�]z\u0015��z\n",
      "\u000735K�kM\"\n",
      "Error decrypting PKCS#7 structure\n",
      "40346151C47F0000:error:1C800064:Provider routines:ossl_cipher_unpadblock:bad decrypt:providers/implementations/ciphers/ciphercommon_block.c:124:\n",
      "��bt�nk\u0002 �BϧError decrypting PKCS#7 structure\n",
      "40D4EDFEF07F0000:error:1C800064:Provider routines:ossl_cipher_unpadblock:bad decrypt:providers/implementations/ciphers/ciphercommon_block.c:124:\n",
      "���k�K}�H��!���aOC`R�Ɩ\u0014+CK\t���Error decrypting PKCS#7 structure\n",
      "4064844D4D7F0000:error:1C800064:Provider routines:ossl_cipher_unpadblock:bad decrypt:providers/implementations/ciphers/ciphercommon_block.c:124:\n",
      "y��͑\u0010��]��n��\u001d",
      "��/m��� J8\u0000m��qb7Error decrypting PKCS#7 structure\n",
      "4014211F967F0000:error:1C800064:Provider routines:ossl_cipher_unpadblock:bad decrypt:providers/implementations/ciphers/ciphercommon_block.c:124:\n",
      "c\u0010,\u001e",
      "��-b�(�\u0016�\u0016fW\f",
      "\u0007d\u001f) ����_�E\t�aError decrypting PKCS#7 structure\n",
      "40D45264CB7F0000:error:1C800064:Provider routines:ossl_cipher_unpadblock:bad decrypt:providers/implementations/ciphers/ciphercommon_block.c:124:\n",
      "bf��ۛ\u001d",
      "��3�\u0015\u0015\\\u000b",
      "c\u0006D�mV�Yօ\\i\u0005`\u000eError decrypting PKCS#7 structure\n",
      "40F4916FDA7F0000:error:1C800064:Provider routines:ossl_cipher_unpadblock:bad decrypt:providers/implementations/ciphers/ciphercommon_block.c:124:\n",
      "�\u0005��S��v���)��Ŭ\u0001#}�pz�u�ՌT.\u001aError decrypting PKCS#7 structure\n",
      "40947F5E117F0000:error:1C800064:Provider routines:ossl_cipher_unpadblock:bad decrypt:providers/implementations/ciphers/ciphercommon_block.c:124:\n",
      "0Vy\u000b",
      "�\u0013�N���dWNF\u0004��7�(�u�.�\f",
      ">J$J�Error decrypting PKCS#7 structure\n",
      "4084A21DB77F0000:error:1C800064:Provider routines:ossl_cipher_unpadblock:bad decrypt:providers/implementations/ciphers/ciphercommon_block.c:124:\n",
      "\u0010�l��?rq\u0004w��.\u0005�\u0016�\u0010W�*Љ�\u0005��u��Error decrypting PKCS#7 structure\n",
      "400461780F7F0000:error:1C800064:Provider routines:ossl_cipher_unpadblock:bad decrypt:providers/implementations/ciphers/ciphercommon_block.c:124:\n",
      "'b�k���B�f\u0003\u001c",
      "'�uz�̩\u0015S\u0001,��k�\u0001Q�z\u0018"
     ]
    }
   ],
   "source": [
    "!find *.pem -exec openssl smime -decrypt  -in flag.encrypted -inkey {} \\;\n"
   ]
  },
  {
   "cell_type": "code",
   "execution_count": null,
   "metadata": {},
   "outputs": [],
   "source": []
  }
 ],
 "metadata": {
  "kernelspec": {
   "display_name": "Python 3 (ipykernel)",
   "language": "python",
   "name": "python3"
  },
  "language_info": {
   "codemirror_mode": {
    "name": "ipython",
    "version": 3
   },
   "file_extension": ".py",
   "mimetype": "text/x-python",
   "name": "python",
   "nbconvert_exporter": "python",
   "pygments_lexer": "ipython3",
   "version": "3.11.6"
  }
 },
 "nbformat": 4,
 "nbformat_minor": 4
}
