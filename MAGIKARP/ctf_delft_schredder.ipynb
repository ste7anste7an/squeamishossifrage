{
 "cells": [
  {
   "cell_type": "code",
   "execution_count": 14,
   "id": "59b0d00d-3053-43b4-8250-4225d1949e74",
   "metadata": {},
   "outputs": [],
   "source": [
    "import binascii\n",
    "import struct\n",
    "tab1=\"002AE8104BBF3017A7A6508796F4312EF1857DEEE75A21F9AE6BDDB2D26FE6EDABD41DD85347CBC4EA5B4F26DB032F39A558B960208993CDFA697F242DBCB8DA489E150749DF9F8F27C3D192C1B3CAA81C2377BD284E982B02BEE5D05DB590FD6EF6EF0DBB4299A0B19A64A333E1520C14B40F71B0AAD67B6C048BB7E9A1FBFC4A8CF3DE7CE23F3C13FE728DAF1A59368E61511954940967A986328A3BBA34450184CC5F3D74839CE380A4D312977970D9F5DCEB8206444DD5765EF2372546B66A431F910EFF66AD73C07E35C711E40AAC0B5CE038C2819D4008651B7AEC1641A2756D2CCE1829F8C84C22CF053E1E62F763D778685688F0C59B95C957C6553A\"\n",
    "table1=binascii.unhexlify(tab1)\n",
    "tab2=\"17F4D94B39E7CE9C9D5E9E0914DF7926E5BBF01084CF9261DDB8F470D95721A14E0E88AA3F86B9D4655F9C540D975D57F914370F61D577F1DF57A9E91154E25339A8DABE45D161A6C0A8D59FE5FE55DFF34CD7004265E389692CB7ECA44CCC24EC226D80F18485B5834BF1860FF85C53A3AFA4A76E0187A93ECFABCC6FDDEDCB\"\n",
    "table2=binascii.unhexlify(tab2)\n",
    "\n",
    "tab2_words=[struct.unpack('I',table2[i*4:i*4+4])[0] for i in range(len(table2)//4)]\n",
    "\n"
   ]
  },
  {
   "cell_type": "code",
   "execution_count": 19,
   "id": "6a14cd5f-a9f7-4b91-ac6f-e0080343bb00",
   "metadata": {},
   "outputs": [
    {
     "data": {
      "text/plain": [
       "'0x00,0x2A,0xE8,0x10,0x4B,0xBF,0x30,0x17,0xA7,0xA6,0x50,0x87,0x96,0xF4,0x31,0x2E,0xF1,0x85,0x7D,0xEE,0xE7,0x5A,0x21,0xF9,0xAE,0x6B,0xDD,0xB2,0xD2,0x6F,0xE6,0xED,0xAB,0xD4,0x1D,0xD8,0x53,0x47,0xCB,0xC4,0xEA,0x5B,0x4F,0x26,0xDB,0x03,0x2F,0x39,0xA5,0x58,0xB9,0x60,0x20,0x89,0x93,0xCD,0xFA,0x69,0x7F,0x24,0x2D,0xBC,0xB8,0xDA,0x48,0x9E,0x15,0x07,0x49,0xDF,0x9F,0x8F,0x27,0xC3,0xD1,0x92,0xC1,0xB3,0xCA,0xA8,0x1C,0x23,0x77,0xBD,0x28,0x4E,0x98,0x2B,0x02,0xBE,0xE5,0xD0,0x5D,0xB5,0x90,0xFD,0x6E,0xF6,0xEF,0x0D,0xBB,0x42,0x99,0xA0,0xB1,0x9A,0x64,0xA3,0x33,0xE1,0x52,0x0C,0x14,0xB4,0x0F,0x71,0xB0,0xAA,0xD6,0x7B,0x6C,0x04,0x8B,0xB7,0xE9,0xA1,0xFB,0xFC,0x4A,0x8C,0xF3,0xDE,0x7C,0xE2,0x3F,0x3C,0x13,0xFE,0x72,0x8D,0xAF,0x1A,0x59,0x36,0x8E,0x61,0x51,0x19,0x54,0x94,0x09,0x67,0xA9,0x86,0x32,0x8A,0x3B,0xBA,0x34,0x45,0x01,0x84,0xCC,0x5F,0x3D,0x74,0x83,0x9C,0xE3,0x80,0xA4,0xD3,0x12,0x97,0x79,0x70,0xD9,0xF5,0xDC,0xEB,0x82,0x06,0x44,0x4D,0xD5,0x76,0x5E,0xF2,0x37,0x25,0x46,0xB6,0x6A,0x43,0x1F,0x91,0x0E,0xFF,0x66,0xAD,0x73,0xC0,0x7E,0x35,0xC7,0x11,0xE4,0x0A,0xAC,0x0B,0x5C,0xE0,0x38,0xC2,0x81,0x9D,0x40,0x08,0x65,0x1B,0x7A,0xEC,0x16,0x41,0xA2,0x75,0x6D,0x2C,0xCE,0x18,0x29,0xF8,0xC8,0x4C,0x22,0xCF,0x05,0x3E,0x1E,0x62,0xF7,0x63,0xD7,0x78,0x68,0x56,0x88,0xF0,0xC5,0x9B,0x95,0xC9,0x57,0xC6,0x55,0x3A,'"
      ]
     },
     "execution_count": 19,
     "metadata": {},
     "output_type": "execute_result"
    }
   ],
   "source": [
    "''.join([\"0x%02X,\"%i for i in table1])"
   ]
  },
  {
   "cell_type": "code",
   "execution_count": 22,
   "id": "273cd19d-7d4a-4d9f-94df-82ac1330a492",
   "metadata": {},
   "outputs": [
    {
     "data": {
      "text/plain": [
       "'1272574999,2630805305,161373853,645521172,284212197,1637011332,1895086301,2703316953,2861043278,3568928319,1419534181,1465751309,255268089,4051162465,3920189407,1407341585,3202000953,2791428421,2681579712,3746954981,14109939,2313381186,3971427433,617368740,2154636012,3045426417,2263960451,1398601743,2812587939,2844197230,3433811774,3421363567'"
      ]
     },
     "execution_count": 22,
     "metadata": {},
     "output_type": "execute_result"
    }
   ],
   "source": [
    "','.join([\"%d\"%i for i in tab2_words])"
   ]
  },
  {
   "cell_type": "code",
   "execution_count": null,
   "id": "c8488264-f9a8-4cca-b840-7830719fdbad",
   "metadata": {},
   "outputs": [],
   "source": [
    "a1='1'*32\n",
    "\n",
    "for ( i = 0; i <= 6; ++i )\n",
    "  {\n",
    "    for ( v5 = 0; v5 <= 0x1Fu; ++v5 )\n",
    "    {\n",
    "      a2[v5] = table[(unsigned __int8)a1[v5]];\n",
    "      a1[v5] = 0;\n",
    "      result = (unsigned int)v5 + 1;\n",
    "    }\n",
    "    for ( j = 0; j <= 0x1Fu; ++j )\n",
    "    {\n",
    "      for ( k = 0; k <= 0x1Fu; ++k )\n",
    "        a1[j] ^= ((table2[j] >> k) & 1) * a2[k];\n",
    "      result = (unsigned int)j + 1;\n",
    "    }\n",
    "  }\n",
    "  for ( l = 0; l <= 0x1Fu; ++l )\n",
    "  {\n",
    "    a2[l] = table_vals[(unsigned __int8)a1[l]];\n",
    "    result = (unsigned int)l + 1;\n",
    "  }\n"
   ]
  },
  {
   "cell_type": "code",
   "execution_count": 17,
   "id": "e91b471d-36fd-4cc5-9608-089030a20319",
   "metadata": {},
   "outputs": [
    {
     "data": {
      "text/plain": [
       "'3.1415926535897932384626433832795028841971693993751058209749445923078164062862089986280348253421170679'"
      ]
     },
     "execution_count": 17,
     "metadata": {},
     "output_type": "execute_result"
    }
   ],
   "source": [
    "\"3 . 1 4 1 5 9 2 6 5 3 5 8 9 7 9 3 2 3 8 4 6 2 6 4 3 3 8 3 2 7 9 5 0 2 8 8 4 1 9 7 1 6 9 3 9 9 3 7 5 1 0 5 8 2 0 9 7 4 9 4 4 5 9 2 3 0 7 8 1 6 4 0 6 2 8 6 2 0 8 9 9 8 6 2 8 0 3 4 8 2 5 3 4 2 1 1 7 0 6 7 9\".replace(' ','')"
   ]
  },
  {
   "cell_type": "code",
   "execution_count": 31,
   "id": "9fdea994-08f0-4af7-a6e3-7c6445be956d",
   "metadata": {},
   "outputs": [],
   "source": [
    "def lookup(table,entry):\n",
    "    for i,v in enumerate(table):\n",
    "        if entry==v:\n",
    "            return i\n",
    "    return 0\n",
    "\n",
    "\n",
    "\n",
    "table = [0x00,0x2A,0xE8,0x10,0x4B,0xBF,0x30,0x17,0xA7,0xA6,0x50,0x87,0x96,0xF4,0x31,0x2E,0xF1,0x85,0x7D,0xEE,0xE7,0x5A,0x21,0xF9,0xAE,0x6B,0xDD,0xB2,0xD2,0x6F,0xE6,0xED,0xAB,0xD4,0x1D,0xD8,0x53,0x47,0xCB,0xC4,0xEA,0x5B,0x4F,0x26,0xDB,0x03,0x2F,0x39,0xA5,0x58,0xB9,0x60,0x20,0x89,0x93,0xCD,0xFA,0x69,0x7F,0x24,0x2D,0xBC,0xB8,0xDA,0x48,0x9E,0x15,0x07,0x49,0xDF,0x9F,0x8F,0x27,0xC3,0xD1,0x92,0xC1,0xB3,0xCA,0xA8,0x1C,0x23,0x77,0xBD,0x28,0x4E,0x98,0x2B,0x02,0xBE,0xE5,0xD0,0x5D,0xB5,0x90,0xFD,0x6E,0xF6,0xEF,0x0D,0xBB,0x42,0x99,0xA0,0xB1,0x9A,0x64,0xA3,0x33,0xE1,0x52,0x0C,0x14,0xB4,0x0F,0x71,0xB0,0xAA,0xD6,0x7B,0x6C,0x04,0x8B,0xB7,0xE9,0xA1,0xFB,0xFC,0x4A,0x8C,0xF3,0xDE,0x7C,0xE2,0x3F,0x3C,0x13,0xFE,0x72,0x8D,0xAF,0x1A,0x59,0x36,0x8E,0x61,0x51,0x19,0x54,0x94,0x09,0x67,0xA9,0x86,0x32,0x8A,0x3B,0xBA,0x34,0x45,0x01,0x84,0xCC,0x5F,0x3D,0x74,0x83,0x9C,0xE3,0x80,0xA4,0xD3,0x12,0x97,0x79,0x70,0xD9,0xF5,0xDC,0xEB,0x82,0x06,0x44,0x4D,0xD5,0x76,0x5E,0xF2,0x37,0x25,0x46,0xB6,0x6A,0x43,0x1F,0x91,0x0E,0xFF,0x66,0xAD,0x73,0xC0,0x7E,0x35,0xC7,0x11,0xE4,0x0A,0xAC,0x0B,0x5C,0xE0,0x38,0xC2,0x81,0x9D,0x40,0x08,0x65,0x1B,0x7A,0xEC,0x16,0x41,0xA2,0x75,0x6D,0x2C,0xCE,0x18,0x29,0xF8,0xC8,0x4C,0x22,0xCF,0x05,0x3E,0x1E,0x62,0xF7,0x63,0xD7,0x78,0x68,0x56,0x88,0xF0,0xC5,0x9B,0x95,0xC9,0x57,0xC6,0x55,0x3A]\n",
    "tab2=[1272574999,2630805305,161373853,645521172,284212197,1637011332,1895086301,2703316953,2861043278,3568928319,1419534181,1465751309,255268089,4051162465,3920189407,1407341585,3202000953,2791428421,2681579712,3746954981,14109939,2313381186,3971427433,617368740,2154636012,3045426417,2263960451,1398601743,2812587939,2844197230,3433811774,3421363567]"
   ]
  },
  {
   "cell_type": "code",
   "execution_count": 29,
   "id": "cc5a0128-de8e-41d3-bd53-c10451d417ba",
   "metadata": {
    "scrolled": true
   },
   "outputs": [
    {
     "data": {
      "text/plain": [
       "[77,\n",
       " 102,\n",
       " 26,\n",
       " 153,\n",
       " 110,\n",
       " 158,\n",
       " 161,\n",
       " 103,\n",
       " 236,\n",
       " 86,\n",
       " 180,\n",
       " 136,\n",
       " 40,\n",
       " 221,\n",
       " 68,\n",
       " 106,\n",
       " 148,\n",
       " 44,\n",
       " 200,\n",
       " 248,\n",
       " 71,\n",
       " 173,\n",
       " 22,\n",
       " 191,\n",
       " 9,\n",
       " 63,\n",
       " 107,\n",
       " 169,\n",
       " 191,\n",
       " 104,\n",
       " 20]"
      ]
     },
     "execution_count": 29,
     "metadata": {},
     "output_type": "execute_result"
    }
   ],
   "source": [
    "res=[int(i,16) for i in \"4D 66 1A 99 6E 9E A1 67 EC 56 B4 88 28 DD 44 6A 94 2C C8 F8 47 AD 16 BF 09 3F 6B A9 BF 68 14\".split(' ')]\n"
   ]
  },
  {
   "cell_type": "code",
   "execution_count": 35,
   "id": "8175642f-4b6c-4a14-ac5a-be354a9f6ca6",
   "metadata": {},
   "outputs": [
    {
     "data": {
      "text/plain": [
       "[183,\n",
       " 198,\n",
       " 141,\n",
       " 102,\n",
       " 96,\n",
       " 65,\n",
       " 125,\n",
       " 151,\n",
       " 221,\n",
       " 245,\n",
       " 113,\n",
       " 246,\n",
       " 84,\n",
       " 26,\n",
       " 182,\n",
       " 192,\n",
       " 149,\n",
       " 227,\n",
       " 232,\n",
       " 231,\n",
       " 37,\n",
       " 199,\n",
       " 222,\n",
       " 5,\n",
       " 150,\n",
       " 134,\n",
       " 25,\n",
       " 152,\n",
       " 5,\n",
       " 244,\n",
       " 112]"
      ]
     },
     "execution_count": 35,
     "metadata": {},
     "output_type": "execute_result"
    }
   ],
   "source": [
    "a2_last=[lookup(table,i) for i in res]\n",
    "for i in range(6):\n",
    "    "
   ]
  },
  {
   "cell_type": "code",
   "execution_count": 34,
   "id": "141121af-91c4-4463-80d3-ad4ab3d633f5",
   "metadata": {},
   "outputs": [
    {
     "data": {
      "text/plain": [
       "77"
      ]
     },
     "execution_count": 34,
     "metadata": {},
     "output_type": "execute_result"
    }
   ],
   "source": [
    "table[183]"
   ]
  },
  {
   "cell_type": "code",
   "execution_count": 45,
   "id": "7f9be3af-66fc-4412-8112-525d56627716",
   "metadata": {},
   "outputs": [
    {
     "data": {
      "text/plain": [
       "1"
      ]
     },
     "execution_count": 45,
     "metadata": {},
     "output_type": "execute_result"
    }
   ],
   "source": [
    "(tab2[0]>>12)&1"
   ]
  },
  {
   "cell_type": "code",
   "execution_count": 43,
   "id": "93684668-10ae-4c0f-a793-b631e5a1db35",
   "metadata": {},
   "outputs": [
    {
     "data": {
      "text/plain": [
       "'0b1001011110110011111010000010111'"
      ]
     },
     "execution_count": 43,
     "metadata": {},
     "output_type": "execute_result"
    }
   ],
   "source": [
    "bin(tab2[0])"
   ]
  },
  {
   "cell_type": "code",
   "execution_count": null,
   "id": "7bd7154a-17f8-4e63-9e79-c36dc404e9c2",
   "metadata": {},
   "outputs": [],
   "source": []
  }
 ],
 "metadata": {
  "kernelspec": {
   "display_name": "Python 3 (ipykernel)",
   "language": "python",
   "name": "python3"
  },
  "language_info": {
   "codemirror_mode": {
    "name": "ipython",
    "version": 3
   },
   "file_extension": ".py",
   "mimetype": "text/x-python",
   "name": "python",
   "nbconvert_exporter": "python",
   "pygments_lexer": "ipython3",
   "version": "3.11.6"
  }
 },
 "nbformat": 4,
 "nbformat_minor": 5
}
