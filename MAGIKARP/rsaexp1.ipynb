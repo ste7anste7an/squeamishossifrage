{
 "cells": [
  {
   "cell_type": "code",
   "execution_count": 10,
   "metadata": {},
   "outputs": [],
   "source": [
    "from Crypto.Util import number\n",
    "from Crypto.PublicKey import RSA\n",
    "from Crypto.Cipher import AES"
   ]
  },
  {
   "cell_type": "code",
   "execution_count": 9,
   "metadata": {},
   "outputs": [
    {
     "data": {
      "text/plain": [
       "(876184619455786109509258427819,\n",
       " 1391546638390999341208861600919,\n",
       " 462868056730126072964327565774382742520842229661023154727233)"
      ]
     },
     "execution_count": 9,
     "metadata": {},
     "output_type": "execute_result"
    }
   ],
   "source": [
    "p=number.getPrime(100)\n",
    "q=number.getPrime(101)\n",
    "n=p*q\n",
    "phi=(p-1)*(q-1)\n",
    "e=65537\n",
    "d=pow(e,-1,phi)\n",
    "p,q,d"
   ]
  },
  {
   "cell_type": "code",
   "execution_count": 12,
   "metadata": {},
   "outputs": [
    {
     "ename": "ValueError",
     "evalue": "Invalid RSA public exponent",
     "output_type": "error",
     "traceback": [
      "\u001b[0;31m---------------------------------------------------------------------------\u001b[0m",
      "\u001b[0;31mValueError\u001b[0m                                Traceback (most recent call last)",
      "Cell \u001b[0;32mIn[12], line 1\u001b[0m\n\u001b[0;32m----> 1\u001b[0m priv\u001b[38;5;241m=\u001b[39m\u001b[43mRSA\u001b[49m\u001b[38;5;241;43m.\u001b[39;49m\u001b[43mconstruct\u001b[49m\u001b[43m(\u001b[49m\u001b[43m(\u001b[49m\u001b[43mn\u001b[49m\u001b[43m,\u001b[49m\u001b[38;5;241;43m1\u001b[39;49m\u001b[43m,\u001b[49m\u001b[38;5;241;43m1\u001b[39;49m\u001b[43m,\u001b[49m\u001b[43mp\u001b[49m\u001b[43m,\u001b[49m\u001b[43mq\u001b[49m\u001b[43m)\u001b[49m\u001b[43m)\u001b[49m\n",
      "File \u001b[0;32m/opt/conda/lib/python3.11/site-packages/Crypto/PublicKey/RSA.py:647\u001b[0m, in \u001b[0;36mconstruct\u001b[0;34m(rsa_components, consistency_check)\u001b[0m\n\u001b[1;32m    643\u001b[0m \u001b[38;5;28;01mif\u001b[39;00m consistency_check:\n\u001b[1;32m    644\u001b[0m \n\u001b[1;32m    645\u001b[0m     \u001b[38;5;66;03m# Modulus and public exponent must be coprime\u001b[39;00m\n\u001b[1;32m    646\u001b[0m     \u001b[38;5;28;01mif\u001b[39;00m e \u001b[38;5;241m<\u001b[39m\u001b[38;5;241m=\u001b[39m \u001b[38;5;241m1\u001b[39m \u001b[38;5;129;01mor\u001b[39;00m e \u001b[38;5;241m>\u001b[39m\u001b[38;5;241m=\u001b[39m n:\n\u001b[0;32m--> 647\u001b[0m         \u001b[38;5;28;01mraise\u001b[39;00m \u001b[38;5;167;01mValueError\u001b[39;00m(\u001b[38;5;124m\"\u001b[39m\u001b[38;5;124mInvalid RSA public exponent\u001b[39m\u001b[38;5;124m\"\u001b[39m)\n\u001b[1;32m    648\u001b[0m     \u001b[38;5;28;01mif\u001b[39;00m Integer(n)\u001b[38;5;241m.\u001b[39mgcd(e) \u001b[38;5;241m!=\u001b[39m \u001b[38;5;241m1\u001b[39m:\n\u001b[1;32m    649\u001b[0m         \u001b[38;5;28;01mraise\u001b[39;00m \u001b[38;5;167;01mValueError\u001b[39;00m(\u001b[38;5;124m\"\u001b[39m\u001b[38;5;124mRSA public exponent is not coprime to modulus\u001b[39m\u001b[38;5;124m\"\u001b[39m)\n",
      "\u001b[0;31mValueError\u001b[0m: Invalid RSA public exponent"
     ]
    }
   ],
   "source": [
    "priv=RSA.construct((n,1,1,p,q))"
   ]
  },
  {
   "cell_type": "code",
   "execution_count": 25,
   "metadata": {},
   "outputs": [
    {
     "data": {
      "text/plain": [
       "252"
      ]
     },
     "execution_count": 25,
     "metadata": {},
     "output_type": "execute_result"
    }
   ],
   "source": [
    "q=priv.exportKey()\n",
    "open(\"privkey.pem\",'wb').write(q)"
   ]
  },
  {
   "cell_type": "code",
   "execution_count": 26,
   "metadata": {},
   "outputs": [
    {
     "ename": "ModuleNotFoundError",
     "evalue": "No module named 'M2Crypto'",
     "output_type": "error",
     "traceback": [
      "\u001b[0;31m---------------------------------------------------------------------------\u001b[0m",
      "\u001b[0;31mModuleNotFoundError\u001b[0m                       Traceback (most recent call last)",
      "Cell \u001b[0;32mIn[26], line 1\u001b[0m\n\u001b[0;32m----> 1\u001b[0m \u001b[38;5;28;01mfrom\u001b[39;00m \u001b[38;5;21;01mM2Crypto\u001b[39;00m \u001b[38;5;28;01mimport\u001b[39;00m BIO, Rand, SMIME, X509\n",
      "\u001b[0;31mModuleNotFoundError\u001b[0m: No module named 'M2Crypto'"
     ]
    }
   ],
   "source": [
    "from M2Crypto import BIO, Rand, SMIME, X509"
   ]
  },
  {
   "cell_type": "code",
   "execution_count": 28,
   "metadata": {},
   "outputs": [
    {
     "data": {
      "text/plain": [
       "b\"\\x00\\x02oD\\xba\\x0b\\xe7\\xf2\\x92\\x0c\\xa3\\xbf\\xce]\\xa4\\r\\x86\\x07\\x19\\xd6/\\to\\xe4aZ\\x9c5\\x87e\\x80OJ_j\\x08\\xf9\\xbcN\\xf48\\x0e\\xa5]v\\xb5\\xf2\\xee\\xd4h~\\xc0<\\x96\\x13;\\x8b'i\\x8a>\\xb3\\x08\\xb8\\xd6`\\xa2\\x95\\xfb\\x16\\x08P)\\xd3\\xe0P\\xe8\\xa8\\xa5\\x01\\xf7R0\\xcb\\x83\\x07\\xfd\\xa0\\x8ee\\xc00\\xc6\\xfcs\\x00\\xbb\\xe5gs\\xa4@\\\\\\xc4\\x90\\xa4B\\xad\\xf6b\\xed^\\xd9\\x96\\xcc\\n\\xc2\\x98\\x7f\\xe0M\\xbf~\\xd2)u\\xc2\\xac\""
      ]
     },
     "execution_count": 28,
     "metadata": {},
     "output_type": "execute_result"
    }
   ],
   "source": [
    "import binascii\n",
    "cipher=\"00026F44BA0BE7F2920CA3BFCE5DA40D860719D62F096FE4615A9C358765804F4A5F6A08F9BC4EF4380EA55D76B5F2EED4687EC03C96133B8B27698A3EB308B8D660A295FB16085029D3E050E8A8A501F75230CB8307FDA08E65C030C6FC7300BBE56773A4405CC490A442ADF662ED5ED996CC0AC2987FE04DBF7ED22975C2AC\"\n",
    "cipher=binascii.unhexlify(cipher)\n",
    "cipher"
   ]
  },
  {
   "cell_type": "code",
   "execution_count": 37,
   "metadata": {},
   "outputs": [
    {
     "data": {
      "text/plain": [
       "b'\\xd6R\\xa9\\xa0\\x0c`\\x912\"AF6\\xe3SU\\x1e\\xb2>{TX\\x88x\\xf6$@\\x13j\\xe0\\x053CJ\\x12\\xde\\xc0\\xffe\\x98Y\\xc8\\x93\\x96i?\\x8ciT\\xc2\\x1b\\x07\\x82<(\\x14\\x8f\\x84,\\x8f1\\xfc\\xfeB\\x87\\xa50Wc\\x07\\x00\\xf6p%b$1\\xe2\\x03\\xd7]'"
      ]
     },
     "execution_count": 37,
     "metadata": {},
     "output_type": "execute_result"
    }
   ],
   "source": [
    "key=binascii.unhexlify(\"A420A665FDAE57B5D27DD16E5A963EE6\")\n",
    "a=AES.new(key=cipher[:32],iv=cipher[32:32+16],mode=AES.MODE_CBC)\n",
    "a.decrypt(cipher[32+16:])"
   ]
  },
  {
   "cell_type": "code",
   "execution_count": 33,
   "metadata": {},
   "outputs": [
    {
     "data": {
      "text/plain": [
       "40"
      ]
     },
     "execution_count": 33,
     "metadata": {},
     "output_type": "execute_result"
    }
   ],
   "source": [
    "len(\"6573F91886BC363E3CC77F6D1F82D1BB6260282A\")"
   ]
  },
  {
   "cell_type": "code",
   "execution_count": 38,
   "metadata": {},
   "outputs": [
    {
     "data": {
      "text/plain": [
       "512"
      ]
     },
     "execution_count": 38,
     "metadata": {},
     "output_type": "execute_result"
    }
   ],
   "source": [
    "len(\"5194E1673A93778A9B24DA532C1F18CED18586BAC539E5511F12042F1B98FB692BDB8F3E5D3870170AD2E0F7FBC28C235B1F1BB086EDCBFF17C1053E6B0DA16DEEE3695CE2C512B905FF5F7AE6C809079023399EA8090BD02ED80DE17D5540A3ADA57C546EC929DE8565D285C7FBF636D6EA6124DEBF0B583BF78556A4B3F33E2EFD1778DDF7F0C22C5DB3EB5807BA8F1C2F489A0F695C113CC13D2F94E2D11A47B57375BC5CBA42E91C8CB1FC1E380C6BFD928D2ED2EC81C4EF9097116E77AFB0E95832767C96459D6321FB90E0D3B63AE14CFEAB7496524D8A5530E7A78D935F086080B51F82AC25CDACB674FE4E813EE3120F8FF56FD8DECC16E18E7BBEB4\")"
   ]
  },
  {
   "cell_type": "code",
   "execution_count": 39,
   "metadata": {},
   "outputs": [
    {
     "data": {
      "text/plain": [
       "208"
      ]
     },
     "execution_count": 39,
     "metadata": {},
     "output_type": "execute_result"
    }
   ],
   "source": [
    "256-32-16"
   ]
  },
  {
   "cell_type": "code",
   "execution_count": 8,
   "metadata": {},
   "outputs": [
    {
     "data": {
      "text/plain": [
       "'9b9258a0b906084276951291eb6274fc91fd694b1d7cd7a8fa5441126f0d4195948ae1d0371b9ad95c49d0f7d33f6c2eb92583a9cddaf7216913727ba4971e05769a7501c933b9b7da39e97d1b7711f795df24f1b897d8a5b30ebaaa72a3ad169d3734e1ca42950b633b2a542c152218e9acfbcc85a1ea277347df3f3eab18e55060d9cee0ffdecfa544e7c758595a895ada275f9d3b99934e5cb1a7ebda0ed80badabeead4c5e9dd8a295dbb886ef31bfb80cfb816e691a3823fdba92e9e2bf00ef171c88786f0a4197c176c64f3a2ab54b59aee8924bcec3318b58e9ea8ff8c81882f54381f10448d3efcb2165c788'"
      ]
     },
     "execution_count": 8,
     "metadata": {},
     "output_type": "execute_result"
    }
   ],
   "source": [
    "pkcs7=bytes.fromhex(\"5194E1673A93778A9B24DA532C1F18CED18586BAC539E5511F12042F1B98FB692BDB8F3E5D3870170AD2E0F7FBC28C235B1F1BB086EDCBFF17C1053E6B0DA16DEEE3695CE2C512B905FF5F7AE6C809079023399EA8090BD02ED80DE17D5540A3ADA57C546EC929DE8565D285C7FBF636D6EA6124DEBF0B583BF78556A4B3F33E2EFD1778DDF7F0C22C5DB3EB5807BA8F1C2F489A0F695C113CC13D2F94E2D11A47B57375BC5CBA42E91C8CB1FC1E380C6BFD928D2ED2EC81C4EF9097116E77AFB0E95832767C96459D6321FB90E0D3B63AE14CFEAB7496524D8A5530E7A78D935F086080B51F82AC25CDACB674FE4E813EE3120F8FF56FD8DECC16E18E7BBEB4\")\n",
    "key=bytes.fromhex(\"DE39F450247A11EDC4FE9E836DCD9F05\")\n",
    "a=AES.new(key=key,iv=pkcs7[:16],mode=AES.MODE_CBC)\n",
    "qq=a.decrypt(pkcs7[16:])\n",
    "bytes.hex(qq)"
   ]
  },
  {
   "cell_type": "code",
   "execution_count": null,
   "metadata": {},
   "outputs": [],
   "source": [
    "                    00:b5:08:f2:95:e4:5c:5a:b2:db:f6:26:87:5b:84:\n",
    "                    9d:21:e0:b2:af:60:5a:80:2e:1f:17:45:78:a3:04:\n",
    "                    f0:41:3f:02:33:ed:42:e9:1f:6f:20:29:6d:68:90:\n",
    "                    4e:37:ec:1e:6c:4a:80:00:ef:fb:b9:c0:1a:4d:55:\n",
    "                    5d:62:10:56:d3:c4:88:e4:7f:5b:eb:55:60:cf:3d:\n",
    "                    69:02:da:e8:44:bb:d7:1c:44:df:5c:ce:b0:e4:5a:\n",
    "                    44:e1:2a:b2:f7:54:34:33:dd:11:7b:bc:9a:9e:ed:\n",
    "                    72:fe:fb:d1:a2:4e:bf:65:3c:82:8a:68:14:3a:e2:\n",
    "                    1f:90:30:02:91:79:fc:bb:ef"
   ]
  }
 ],
 "metadata": {
  "kernelspec": {
   "display_name": "Python 3 (ipykernel)",
   "language": "python",
   "name": "python3"
  },
  "language_info": {
   "codemirror_mode": {
    "name": "ipython",
    "version": 3
   },
   "file_extension": ".py",
   "mimetype": "text/x-python",
   "name": "python",
   "nbconvert_exporter": "python",
   "pygments_lexer": "ipython3",
   "version": "3.11.6"
  }
 },
 "nbformat": 4,
 "nbformat_minor": 4
}
