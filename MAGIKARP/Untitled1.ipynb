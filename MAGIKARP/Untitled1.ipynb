{
 "cells": [
  {
   "cell_type": "code",
   "execution_count": 5,
   "id": "51e75b02-41ee-4023-b7fb-b04e3f5d0b73",
   "metadata": {},
   "outputs": [
    {
     "data": {
      "text/plain": [
       "'[TAB]'"
      ]
     },
     "execution_count": 5,
     "metadata": {},
     "output_type": "execute_result"
    }
   ],
   "source": [
    "crypt=[0x9A, 0xB1, 0xB8, 0xBE, 0xA8, 0xA1, 0xFC, 0xFC, 0xAD, 0xAF, 0xA4, 0xEC, 0xB1, 0xBC, 0xB3,0x00]\n",
    "crypt=[ 0x92, 0x9C, 0x8A, 0x88, 0x90]\n",
    "q=[]\n",
    "for i,c in enumerate(crypt):\n",
    "    q.append(i^c^0xc9)\n",
    "\n",
    "''.join([chr(i) for i in q])\n",
    "\n"
   ]
  },
  {
   "cell_type": "code",
   "execution_count": null,
   "id": "4801db46-7bf1-4e32-9349-059c19fb2ae8",
   "metadata": {},
   "outputs": [],
   "source": []
  }
 ],
 "metadata": {
  "kernelspec": {
   "display_name": "Python 3 (ipykernel)",
   "language": "python",
   "name": "python3"
  },
  "language_info": {
   "codemirror_mode": {
    "name": "ipython",
    "version": 3
   },
   "file_extension": ".py",
   "mimetype": "text/x-python",
   "name": "python",
   "nbconvert_exporter": "python",
   "pygments_lexer": "ipython3",
   "version": "3.11.6"
  }
 },
 "nbformat": 4,
 "nbformat_minor": 5
}
