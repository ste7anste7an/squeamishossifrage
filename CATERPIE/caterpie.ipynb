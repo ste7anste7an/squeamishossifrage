{
 "cells": [
  {
   "cell_type": "code",
   "execution_count": 23,
   "id": "be583f13-6a49-42f4-b728-ef0743948522",
   "metadata": {},
   "outputs": [],
   "source": [
    "from Crypto.PublicKey import RSA\n",
    "with open('no-wiener.crt') as f:\n",
    "    pubkey=RSA.importKey(f.read())\n",
    "n=pubkey.n\n",
    "e=pubkey.e"
   ]
  },
  {
   "cell_type": "code",
   "execution_count": 24,
   "id": "6230df20-91ab-4744-947a-1dd33118ceb4",
   "metadata": {},
   "outputs": [
    {
     "data": {
      "text/plain": [
       "True"
      ]
     },
     "execution_count": 24,
     "metadata": {},
     "output_type": "execute_result"
    }
   ],
   "source": [
    "e**4>n"
   ]
  },
  {
   "cell_type": "code",
   "execution_count": 25,
   "id": "849f2943-4268-493e-ba0d-880a28104fcd",
   "metadata": {},
   "outputs": [
    {
     "name": "stdout",
     "output_type": "stream",
     "text": [
      "6\n"
     ]
    }
   ],
   "source": [
    "def modular_sqrt(a, p):\n",
    "\n",
    "    def legendre_symbol(a, p):\n",
    "        \"\"\" Compute the Legendre symbol a|p using\n",
    "            Euler's criterion. p is a prime, a is\n",
    "            relatively prime to p (if p divides\n",
    "            a, then a|p = 0)\n",
    "            Returns 1 if a has a square root modulo\n",
    "            p, -1 otherwise.\n",
    "        \"\"\"\n",
    "        ls = pow(a, (p - 1) // 2, p)\n",
    "        return -1 if ls == p - 1 else ls\n",
    "\n",
    "    \"\"\" Find a quadratic residue (mod p) of 'a'. p\n",
    "        must be an odd prime.\n",
    "        Solve the congruence of the form:\n",
    "            x^2 = a (mod p)\n",
    "        And returns x. Note that p - x is also a root.\n",
    "        0 is returned is no square root exists for\n",
    "        these a and p.\n",
    "        The Tonelli-Shanks algorithm is used (except\n",
    "        for some simple cases in which the solution\n",
    "        is known from an identity). This algorithm\n",
    "        runs in polynomial time (unless the\n",
    "        generalized Riemann hypothesis is false).\n",
    "    \"\"\"\n",
    "    # Simple cases\n",
    "    #\n",
    "    if legendre_symbol(a, p) != 1:\n",
    "        return 0\n",
    "    elif a == 0:\n",
    "        return 0\n",
    "    elif p == 2:\n",
    "        return p\n",
    "    elif p % 4 == 3:\n",
    "        return pow(a, (p + 1) // 4, p)\n",
    "\n",
    "    # Partition p-1 to s * 2^e for an odd s (i.e.\n",
    "    # reduce all the powers of 2 from p-1)\n",
    "    #\n",
    "    s = p - 1\n",
    "    e = 0\n",
    "    while s % 2 == 0:\n",
    "        s //= 2\n",
    "        e += 1\n",
    "\n",
    "    # Find some 'n' with a legendre symbol n|p = -1.\n",
    "    # Shouldn't take long.\n",
    "    #\n",
    "    n = 2\n",
    "    while legendre_symbol(n, p) != -1:\n",
    "        n += 1\n",
    "\n",
    "    # Here be dragons!\n",
    "    # Read the paper \"Square roots from 1; 24, 51,\n",
    "    # 10 to Dan Shanks\" by Ezra Brown for more\n",
    "    # information\n",
    "    #\n",
    "\n",
    "    # x is a guess of the square root that gets better\n",
    "    # with each iteration.\n",
    "    # b is the \"fudge factor\" - by how much we're off\n",
    "    # with the guess. The invariant x^2 = ab (mod p)\n",
    "    # is maintained throughout the loop.\n",
    "    # g is used for successive powers of n to update\n",
    "    # both a and b\n",
    "    # r is the exponent - decreases with each update\n",
    "    #\n",
    "    x = pow(a, (s + 1) // 2, p)\n",
    "    b = pow(a, s, p)\n",
    "    g = pow(n, s, p)\n",
    "    r = e\n",
    "\n",
    "    while True:\n",
    "        t = b\n",
    "        m = 0\n",
    "        for m in range(r):\n",
    "            if t == 1:\n",
    "                break\n",
    "            t = pow(t, 2, p)\n",
    "\n",
    "        if m == 0:\n",
    "            return x\n",
    "\n",
    "        gs = pow(g, 2 ** (r - m - 1), p)\n",
    "        g = (gs * gs) % p\n",
    "        x = (x * gs) % p\n",
    "        b = (b * g) % p\n",
    "        r = m\n",
    "\n",
    "print(modular_sqrt(223, 17)) # should return 6"
   ]
  },
  {
   "cell_type": "markdown",
   "id": "af7243ad-045a-4723-ad49-b644bb282fd2",
   "metadata": {},
   "source": [
    "Attack on  Encinas-Masqu´e-Dios algorithm \n",
    "\n",
    "Security Analysis of an RSA Key Generation\r\n",
    "Algorithm with a Large Private Key\n",
    "\n",
    "\n",
    "solve this equation:\n",
    "\n",
    "t=p+q, q=p/(p-1) solve p and q in Wolfram Alpha (replaced rp by p and rq by q)\n",
    "i Wu\r\n",
    "4"
   ]
  },
  {
   "cell_type": "code",
   "execution_count": 26,
   "id": "8d73450d-6070-40fd-8fdb-20f9ccfb92e9",
   "metadata": {},
   "outputs": [],
   "source": [
    "t=n%e+e\n",
    "rp =  (t - modular_sqrt(t - 4,e) * modular_sqrt(t,e))//2 \n",
    "rq =  (t + modular_sqrt(t - 4,e) *modular_sqrt(t,e))//2\n",
    "rp%=e\n",
    "rq%=e"
   ]
  },
  {
   "cell_type": "code",
   "execution_count": 37,
   "id": "179fa83a-1b07-4b62-89fe-9ef18f49191f",
   "metadata": {},
   "outputs": [
    {
     "data": {
      "text/plain": [
       "17124393272287076881645580791096055057192462219610193042652127026887731500987134775836063802341822881536177654071145325936609446404088362125721885987337"
      ]
     },
     "execution_count": 37,
     "metadata": {},
     "output_type": "execute_result"
    }
   ],
   "source": [
    "rp"
   ]
  },
  {
   "cell_type": "code",
   "execution_count": 38,
   "id": "deedda74-3134-4f7c-a6a8-2aef5abb66a0",
   "metadata": {},
   "outputs": [
    {
     "data": {
      "text/plain": [
       "28753864477129886277097526748854000254811999902065581474288880316456394728883865118963667365713504077817714302119626048090191927175530306908147361478133"
      ]
     },
     "execution_count": 38,
     "metadata": {},
     "output_type": "execute_result"
    }
   ],
   "source": [
    "rq"
   ]
  },
  {
   "cell_type": "code",
   "execution_count": 39,
   "id": "c6350f8c-fffd-4767-aafd-1faa8dc275c1",
   "metadata": {},
   "outputs": [
    {
     "data": {
      "text/plain": [
       "True"
      ]
     },
     "execution_count": 39,
     "metadata": {},
     "output_type": "execute_result"
    }
   ],
   "source": [
    "(rp*rq)%e == n%e"
   ]
  },
  {
   "cell_type": "markdown",
   "id": "2253a02b-8f1a-46af-8a68-bd1f6c04a077",
   "metadata": {},
   "source": [
    "e.nbits()=504\n",
    "p approx 512 buts\n",
    "q apprix 512 bits\n",
    "\n",
    "so only (512-504)=8 bits to brute force\n",
    "\n",
    "we take 10 bits to be sure"
   ]
  },
  {
   "cell_type": "code",
   "execution_count": 42,
   "id": "bcdb9335-56f2-4fa6-a4f3-24edead6373a",
   "metadata": {},
   "outputs": [
    {
     "name": "stdout",
     "output_type": "stream",
     "text": [
      "334 146\n"
     ]
    }
   ],
   "source": [
    "for ix in range(1024):\n",
    "    for iy in range(1024):\n",
    "        if (ix*e+rp)*(iy*e+rq)==n:\n",
    "            x=ix\n",
    "            y=iy\n",
    "            print(x,y)"
   ]
  },
  {
   "cell_type": "code",
   "execution_count": 43,
   "id": "17435845-1bcf-408d-9692-ce12cafc5931",
   "metadata": {},
   "outputs": [
    {
     "name": "stdout",
     "output_type": "stream",
     "text": [
      "True\n"
     ]
    }
   ],
   "source": [
    "\n",
    "p=e*x+rp\n",
    "q=e*y+rq\n",
    "print(p*q==n)\n",
    "d=pow(e,-1,(p-1)*(q-1))"
   ]
  },
  {
   "cell_type": "code",
   "execution_count": 44,
   "id": "615f177a-5f3c-430e-a6e0-a497b3ec1a4e",
   "metadata": {
    "scrolled": true
   },
   "outputs": [
    {
     "data": {
      "text/plain": [
       "971"
      ]
     },
     "execution_count": 44,
     "metadata": {},
     "output_type": "execute_result"
    }
   ],
   "source": [
    "from Crypto.PublicKey import RSA\n",
    "key=RSA.construct((n,e,d))\n",
    "open('private.key','wb').write(key.exportKey('PEM'))"
   ]
  },
  {
   "cell_type": "code",
   "execution_count": 45,
   "id": "60f5090d-8a4d-42c3-8fc2-e8ecf6f8eb51",
   "metadata": {},
   "outputs": [
    {
     "name": "stdout",
     "output_type": "stream",
     "text": [
      "so{e7da1c755b398c01f30d1142a6a5d182}"
     ]
    }
   ],
   "source": [
    "!openssl smime -decrypt -in flag.encrypted -inkey private.key \n"
   ]
  },
  {
   "cell_type": "code",
   "execution_count": null,
   "id": "69fd65f2-8b55-44b5-b3c8-426e089cda27",
   "metadata": {},
   "outputs": [],
   "source": []
  }
 ],
 "metadata": {
  "kernelspec": {
   "display_name": "Python 3 (ipykernel)",
   "language": "python",
   "name": "python3"
  },
  "language_info": {
   "codemirror_mode": {
    "name": "ipython",
    "version": 3
   },
   "file_extension": ".py",
   "mimetype": "text/x-python",
   "name": "python",
   "nbconvert_exporter": "python",
   "pygments_lexer": "ipython3",
   "version": "3.11.6"
  }
 },
 "nbformat": 4,
 "nbformat_minor": 5
}
